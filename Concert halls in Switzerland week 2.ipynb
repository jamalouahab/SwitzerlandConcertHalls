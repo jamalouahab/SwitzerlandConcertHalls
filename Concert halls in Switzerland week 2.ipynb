{
    "cells": [
        {
            "attachments": {},
            "cell_type": "markdown",
            "metadata": {
                "collapsed": true
            },
            "source": "# Concert halls in Switzerland : a territorial study\n\n## Introduction\n\nCulture is a major factor when measuring the cities attractivity, whether it is for attracting tourists, skilled people, or simply to increase the well being\nof the inhabitants and their quality of living.\n\nThere are regular discussions about cultural fundings, and here in Switzerland, the language situation (with 4 different official languages, but we will probably not have 'Romanche' speaking cities, given it is a rural population, and represents less than one % to the total population), and the federal regime, with highly independant states (called canton), makes this issue even more closely followed.\n\nThe following study, aims to compare the major cities in Swizerland in terms of concert halls per capita, to provide an insight to the federal authorities, music professionals or simply to people interested in the cultural state of things from a numbers perspective, on the current distribution of the venues between the cities, opening the door for more focused studies on the budget side of things, to see how the discrepancies, if any, between the different territories could be explained, solved.\n\nBy grouping the cities into distinct clusers, based on the number of venues per capita, but also the number of inhabitants, we should be able to provide the insight needed to explore further the issue.\nThrough a chloropeth map, we will also be able to see how the territory part, affect the distribution.\n\n## Data sources\n\n### I. Data on Cities \n\nData on cities will include:\n\n- Geospatial coordinates\n- The state in which the city is located\n- The population\n- The name of the city\n\nAll this data will be scrapped from the website (it also can be done from a downloadable csv file).\nhttps://simplemaps.com/data/ch-cities\n\n\n\n### II. Data on concert halls\n\nBased on foursquare, we will be able to retrieve the venues, located in the different cities.\nHere is an example of concert hall as described in foursquare.\nhttps://foursquare.com/v/lusine/4adcdab5f964a5209a5021e3\nA concert hall, is considered a 'Category' and this data should be easy to extract using the API.\n\nWe will be only focusing on the number of venues, we will need to defines the radius used to include a venue in the city or not.\n"
        },
        {
            "cell_type": "code",
            "execution_count": null,
            "metadata": {},
            "outputs": [],
            "source": ""
        }
    ],
    "metadata": {
        "kernelspec": {
            "display_name": "Python 3.7",
            "language": "python",
            "name": "python3"
        },
        "language_info": {
            "codemirror_mode": {
                "name": "ipython",
                "version": 3
            },
            "file_extension": ".py",
            "mimetype": "text/x-python",
            "name": "python",
            "nbconvert_exporter": "python",
            "pygments_lexer": "ipython3",
            "version": "3.7.9"
        }
    },
    "nbformat": 4,
    "nbformat_minor": 1
}